{
 "cells": [
  {
   "cell_type": "markdown",
   "metadata": {},
   "source": [
    "# Getting started with GitHub Models - Azure AI Inference SDK\n",
    "\n",
    "## 1. Personal access token\n",
    "\n",
    "A personal access token is made available in the Codespaces environment in the `GITHUB_TOKEN` environment variable. \n",
    "\n"
   ]
  },
  {
   "cell_type": "markdown",
   "metadata": {},
   "source": [
    "## 2. Install dependencies"
   ]
  },
  {
   "cell_type": "code",
   "execution_count": null,
   "metadata": {},
   "outputs": [],
   "source": [
    "%pip install azure-ai-inference --quiet\n",
    "%pip install python-dotenv --quiet"
   ]
  },
  {
   "cell_type": "markdown",
   "metadata": {},
   "source": [
    "\n",
    "\n",
    "## 3. Set environment variables and create the client\n",
    "\n",
    "\n"
   ]
  },
  {
   "cell_type": "code",
   "execution_count": null,
   "metadata": {},
   "outputs": [],
   "source": [
    "import os\n",
    "import dotenv\n",
    "from azure.ai.inference import ChatCompletionsClient\n",
    "from azure.ai.inference.models import SystemMessage, UserMessage\n",
    "from azure.core.credentials import AzureKeyCredential\n",
    "\n",
    "dotenv.load_dotenv()\n",
    "\n",
    "if not os.getenv(\"GITHUB_TOKEN\"):\n",
    "    raise ValueError(\"GITHUB_TOKEN is not set\")\n",
    "\n",
    "github_token = os.environ[\"GITHUB_TOKEN\"]\n",
    "endpoint = \"https://models.inference.ai.azure.com\"\n",
    "\n",
    "\n",
    "# Create a client\n",
    "client = ChatCompletionsClient(\n",
    "    endpoint=endpoint,\n",
    "    credential=AzureKeyCredential(github_token),\n",
    ")\n"
   ]
  },
  {
   "cell_type": "markdown",
   "metadata": {},
   "source": [
    "By using the Azure AI Inference SDK, you can easily experiment with different models by modifying the value of `model_name` in the code below. The following models are available in the GitHub Models service:\n",
    "- AI21 Labs: `AI21-Jamba-Instruct`\n",
    "- Cohere: `Cohere-command-r`, `Cohere-command-r-plus`\n",
    "- Meta: `Meta-Llama-3-70B-Instruct`, `Meta-Llama-3-8B-Instruct`, `Meta-Llama-3.1-405B-Instruct`, `Meta-Llama-3.1-70B-Instruct`, `Meta-Llama-3.1-8B-Instruct`\n",
    "- Mistral AI: `Mistral-large`, `Mistral-large-2407`, `Mistral-Nemo`, `Mistral-small`\n",
    "- Azure OpenAI: `gpt-4o-mini`, `gpt-4o`\n",
    "- Microsoft: `Phi-3-medium-128k-instruct`, `Phi-3-medium-4k-instruct`, `Phi-3-mini-128k-instruct`, `Phi-3-mini-4k-instruct`, `Phi-3-small-128k-instruct`, `Phi-3-small-8k-instruct`"
   ]
  },
  {
   "cell_type": "code",
   "execution_count": null,
   "metadata": {},
   "outputs": [],
   "source": [
    "# pick one of them\n",
    "model_name = \"gpt-4o-mini\""
   ]
  },
  {
   "cell_type": "markdown",
   "metadata": {},
   "source": [
    "## 4. Run a basic code sample\n",
    "\n",
    "This is just calling the `chat.completions` endpoint with a simple prompt.\n",
    "\n",
    "\n"
   ]
  },
  {
   "cell_type": "code",
   "execution_count": null,
   "metadata": {},
   "outputs": [],
   "source": [
    "response = client.complete(\n",
    "    messages=[\n",
    "        SystemMessage(content=\"You are a helpful assistant.\"),\n",
    "        UserMessage(content=\"What is the capital of France?\"),\n",
    "    ],\n",
    "    model=model_name,\n",
    "    # Optional parameters\n",
    "    temperature=1.,\n",
    "    max_tokens=1000,\n",
    "    top_p=1.    \n",
    ")\n",
    "\n",
    "print(response.choices[0].message.content)"
   ]
  },
  {
   "cell_type": "markdown",
   "metadata": {},
   "source": [
    "## 5. Multi-Turn Conversation\n",
    "\n",
    "This sample demonstrates a multi-turn conversation with the chat completion API.\n",
    "When using the model for a chat application, you'll need to manage the history of that\n",
    "conversation and send the latest messages to the model.\n",
    "\n"
   ]
  },
  {
   "cell_type": "code",
   "execution_count": null,
   "metadata": {},
   "outputs": [],
   "source": [
    "from azure.ai.inference.models import AssistantMessage, SystemMessage, UserMessage\n",
    "\n",
    "messages = [\n",
    "    SystemMessage(content=\"You are a helpful assistant.\"),\n",
    "    UserMessage(content=\"What is the capital of France?\"),\n",
    "    AssistantMessage(content=\"The capital of France is Paris.\"),\n",
    "    UserMessage(content=\"What about Spain?\"),\n",
    "]\n",
    "\n",
    "response = client.complete(messages=messages, model=model_name)\n",
    "\n",
    "print(response.choices[0].message.content)"
   ]
  },
  {
   "cell_type": "markdown",
   "metadata": {},
   "source": [
    "## 6. Using images as inputs\n",
    "\n",
    "Some models of the GitHub Models service support image inputs. The following image models are available in the GitHub Models service:\n",
    " \n",
    "-  Azure OpenAI: `gpt-4o-mini`, `gpt-4o`"
   ]
  },
  {
   "cell_type": "code",
   "execution_count": null,
   "metadata": {},
   "outputs": [],
   "source": [
    "# Select a model\n",
    "model_name = \"gpt-4o-mini\""
   ]
  },
  {
   "cell_type": "markdown",
   "metadata": {},
   "source": [
    "To run a chat completion using a local image file, use the following sample.\n",
    "\n",
    "![image](./sample.png)\n",
    "\n",
    "> Note: To send it to the service, you'll need to encode the image as **data URI**, which is a string that starts with `data:image/png;base64,` followed by the base64-encoded image. The Azure AI Inference SDK provides classes to help creating a chat completion for such models."
   ]
  },
  {
   "cell_type": "code",
   "execution_count": null,
   "metadata": {},
   "outputs": [],
   "source": [
    "from azure.ai.inference.models import (\n",
    "    TextContentItem,\n",
    "    ImageContentItem,\n",
    "    ImageUrl,\n",
    "    ImageDetailLevel,\n",
    ")\n",
    "\n",
    "response = client.complete(\n",
    "    messages=[\n",
    "        SystemMessage(\n",
    "            content=\"You are a helpful assistant that describes images in details.\"\n",
    "        ),\n",
    "        UserMessage(\n",
    "            content=[\n",
    "                TextContentItem(text=\"What's in this image?\"),\n",
    "                ImageContentItem(\n",
    "                    image_url=ImageUrl.load(\n",
    "                        image_file=\"sample.png\",\n",
    "                        image_format=\"png\",\n",
    "                        detail=ImageDetailLevel.LOW)\n",
    "                ),\n",
    "            ],\n",
    "        ),\n",
    "    ],\n",
    "    model=model_name,\n",
    ")\n",
    "\n",
    "print(response.choices[0].message.content)"
   ]
  },
  {
   "cell_type": "markdown",
   "metadata": {},
   "source": [
    "## 7. Streaming the response\n",
    "\n",
    "For a better user experience, you will want to stream the response of the model\n",
    "so that the first token shows up early and you avoid waiting for long responses.\n",
    "\n",
    "\n",
    "\n",
    "\n"
   ]
  },
  {
   "cell_type": "code",
   "execution_count": null,
   "metadata": {},
   "outputs": [],
   "source": [
    "response = client.complete(\n",
    "    stream=True,\n",
    "    messages=[\n",
    "        SystemMessage(content=\"You are a helpful assistant.\"),\n",
    "        UserMessage(content=\"Give me 5 good reasons why I should exercise every day.\"),\n",
    "    ],\n",
    "    model=model_name,\n",
    ")\n",
    "\n",
    "for update in response:\n",
    "    if update.choices:\n",
    "        print(update.choices[0].delta.content or \"\", end=\"\")\n",
    "\n",
    "print()\n",
    "\n"
   ]
  },
  {
   "cell_type": "markdown",
   "metadata": {},
   "source": [
    "## 8. Tools and Function Calling\n",
    "\n",
    "Some models of the GitHub Models service support tools. A language model is given a set of tools it can ask the calling program to invoke,\n",
    "for running specific actions depending on the context of the conversation. This sample demonstrates how to define a function tool and how to act on a request from the model to invoke it.\n",
    "\n",
    "The following compatible models are available in the GitHub Models service:\n",
    "- Cohere: `Cohere-command-r`, `Cohere-command-r-plus`\n",
    "- Mistral AI: `Mistral-large`, `Mistral-large-2407`, `Mistral-Nemo`, `Mistral-small`\n",
    "- Azure OpenAI: `gpt-4o-mini`, `gpt-4o`"
   ]
  },
  {
   "cell_type": "code",
   "execution_count": null,
   "metadata": {},
   "outputs": [],
   "source": [
    "# pick one of them\n",
    "model_name = \"gpt-4o-mini\""
   ]
  },
  {
   "cell_type": "code",
   "execution_count": null,
   "metadata": {},
   "outputs": [],
   "source": [
    "import json\n",
    "\n",
    "# Define a function that returns flight information between two cities (mock implementation)\n",
    "def get_flight_info(origin_city: str, destination_city: str):\n",
    "    if origin_city == \"Seattle\" and destination_city == \"Miami\":\n",
    "        return json.dumps(\n",
    "            {\n",
    "                \"airline\": \"Delta\",\n",
    "                \"flight_number\": \"DL123\",\n",
    "                \"flight_date\": \"May 7th, 2024\",\n",
    "                \"flight_time\": \"10:00AM\",\n",
    "            }\n",
    "        )\n",
    "    return json.dump({\"error\": \"No flights found between the cities\"})\n",
    "\n",
    "\n",
    "# Define a function tool that the model can ask to invoke in order to retrieve flight information\n",
    "tool = {\n",
    "    \"type\": \"function\",\n",
    "    \"function\": {\n",
    "        \"name\": \"get_flight_info\",\n",
    "        \"description\": \"\"\"Returns information about the next flight between two cities.\n",
    "            This includes the name of the airline, flight number and the date and time\n",
    "            of the next flight\"\"\",\n",
    "        \"parameters\": {\n",
    "            \"type\": \"object\",\n",
    "            \"properties\": {\n",
    "                \"origin_city\": {\n",
    "                    \"type\": \"string\",\n",
    "                    \"description\": \"The name of the city where the flight originates\",\n",
    "                },\n",
    "                \"destination_city\": {\n",
    "                    \"type\": \"string\",\n",
    "                    \"description\": \"The flight destination city\",\n",
    "                },\n",
    "            },\n",
    "            \"required\": [\"origin_city\", \"destination_city\"],\n",
    "        },\n",
    "    },\n",
    "}\n",
    "\n",
    "\n",
    "messages = [\n",
    "    SystemMessage(content=\"You an assistant that helps users find flight information.\"),\n",
    "    UserMessage(\n",
    "        content=\"I'm interested in going to Miami. What is the next flight there from Seattle?\"\n",
    "    ),\n",
    "]\n",
    "\n",
    "response = client.complete(\n",
    "    messages=messages,\n",
    "    tools=[tool],\n",
    "    model=model_name,\n",
    ")\n",
    "\n",
    "# We expect the model to ask for a tool call\n",
    "if response.choices[0].finish_reason == \"tool_calls\":\n",
    "\n",
    "    # Append the model response to the chat history\n",
    "    messages.append(response.choices[0].message)\n",
    "\n",
    "    # We expect a single tool call\n",
    "    if (\n",
    "        response.choices[0].message.tool_calls\n",
    "        and len(response.choices[0].message.tool_calls) == 1\n",
    "    ):\n",
    "\n",
    "        tool_call = response.choices[0].message.tool_calls[0]\n",
    "\n",
    "        # We expect the tool to be a function call\n",
    "        if tool_call.type == \"function\":\n",
    "\n",
    "            # Parse the function call arguments and call the function\n",
    "            function_args = json.loads(tool_call.function.arguments.replace(\"'\", '\"'))\n",
    "            print(\n",
    "                f\"Calling function `{tool_call.function.name}` with arguments {function_args}\"\n",
    "            )\n",
    "            callable_func = locals()[tool_call.function.name]\n",
    "            function_return = callable_func(**function_args)\n",
    "            print(f\"Function returned = {function_return}\")\n",
    "\n",
    "            # Append the function call result fo the chat history\n",
    "            messages.append(\n",
    "                {\n",
    "                    \"tool_call_id\": tool_call.id,\n",
    "                    \"role\": \"tool\",\n",
    "                    \"name\": tool_call.function.name,\n",
    "                    \"content\": function_return,\n",
    "                }\n",
    "            )\n",
    "\n",
    "            # Get another response from the model\n",
    "            response = client.complete(\n",
    "                messages=messages,\n",
    "                tools=[tool],\n",
    "                model=model_name,\n",
    "            )\n",
    "\n",
    "            print(f\"Model response = {response.choices[0].message.content}\")"
   ]
  },
  {
   "cell_type": "markdown",
   "metadata": {},
   "source": [
    "## Next Steps\n",
    "\n",
    "To learn more about what you can do with the GitHub Models using Python, please check out the multiple [python cookbooks](../../../cookbooks/python/README.md).\n",
    "\n",
    "For additional information about Azure AI Inference SDK, see full [documentation](https://aka.ms/azsdk/azure-ai-inference/python/reference) and [samples](https://aka.ms/azsdk/azure-ai-inference/python/samples)."
   ]
  }
 ],
 "metadata": {
  "kernelspec": {
   "display_name": "gh-cookbook",
   "language": "python",
   "name": "python3"
  },
  "language_info": {
   "codemirror_mode": {
    "name": "ipython",
    "version": 3
   },
   "file_extension": ".py",
   "mimetype": "text/x-python",
   "name": "python",
   "nbconvert_exporter": "python",
   "pygments_lexer": "ipython3",
   "version": "3.11.9"
  }
 },
 "nbformat": 4,
 "nbformat_minor": 2
}
